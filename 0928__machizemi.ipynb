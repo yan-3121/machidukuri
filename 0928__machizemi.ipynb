{
 "cells": [
  {
   "cell_type": "markdown",
   "id": "4e89469d-c8ff-4d2a-9909-98cf3938633a",
   "metadata": {},
   "source": [
    "0928まちゼミサミット"
   ]
  }
 ],
 "metadata": {
  "kernelspec": {
   "display_name": "Python 3 (ipykernel)",
   "language": "python",
   "name": "python3"
  },
  "language_info": {
   "codemirror_mode": {
    "name": "ipython",
    "version": 3
   },
   "file_extension": ".py",
   "mimetype": "text/x-python",
   "name": "python",
   "nbconvert_exporter": "python",
   "pygments_lexer": "ipython3",
   "version": "3.10.12"
  }
 },
 "nbformat": 4,
 "nbformat_minor": 5
}
